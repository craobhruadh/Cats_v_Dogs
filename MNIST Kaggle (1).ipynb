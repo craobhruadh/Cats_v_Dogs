{
 "cells": [
  {
   "cell_type": "code",
   "execution_count": 1,
   "metadata": {},
   "outputs": [
    {
     "name": "stderr",
     "output_type": "stream",
     "text": [
      "/Users/rosscheung/anaconda3/lib/python3.6/site-packages/h5py/__init__.py:34: FutureWarning: Conversion of the second argument of issubdtype from `float` to `np.floating` is deprecated. In future, it will be treated as `np.float64 == np.dtype(float).type`.\n",
      "  from ._conv import register_converters as _register_converters\n",
      "Using TensorFlow backend.\n",
      "/Users/rosscheung/anaconda3/lib/python3.6/importlib/_bootstrap.py:205: RuntimeWarning: compiletime version 3.5 of module 'tensorflow.python.framework.fast_tensor_util' does not match runtime version 3.6\n",
      "  return f(*args, **kwds)\n"
     ]
    }
   ],
   "source": [
    "import pandas as pd\n",
    "import numpy as np\n",
    "import matplotlib.pyplot as plt\n",
    "\n",
    "from keras.models import Sequential\n",
    "from keras.layers import Dense, Conv2D, MaxPooling2D, Flatten, Dropout, BatchNormalization\n",
    "\n",
    "from keras import backend as K\n",
    "K.set_image_dim_ordering('th')\n",
    "from keras.callbacks import ModelCheckpoint\n",
    "from keras.callbacks import LearningRateScheduler\n",
    "\n",
    "from keras.preprocessing.image import ImageDataGenerator\n",
    "\n",
    "from keras.utils import np_utils\n",
    "\n",
    "\n",
    "from sklearn.metrics import confusion_matrix \n",
    "from sklearn.model_selection import train_test_split"
   ]
  },
  {
   "cell_type": "code",
   "execution_count": 2,
   "metadata": {
    "collapsed": true
   },
   "outputs": [],
   "source": [
    "df_train = pd.read_csv('train.csv')\n",
    "df_test = pd.read_csv('test.csv')"
   ]
  },
  {
   "cell_type": "code",
   "execution_count": 3,
   "metadata": {},
   "outputs": [
    {
     "data": {
      "text/html": [
       "<div>\n",
       "<style>\n",
       "    .dataframe thead tr:only-child th {\n",
       "        text-align: right;\n",
       "    }\n",
       "\n",
       "    .dataframe thead th {\n",
       "        text-align: left;\n",
       "    }\n",
       "\n",
       "    .dataframe tbody tr th {\n",
       "        vertical-align: top;\n",
       "    }\n",
       "</style>\n",
       "<table border=\"1\" class=\"dataframe\">\n",
       "  <thead>\n",
       "    <tr style=\"text-align: right;\">\n",
       "      <th></th>\n",
       "      <th>label</th>\n",
       "      <th>pixel0</th>\n",
       "      <th>pixel1</th>\n",
       "      <th>pixel2</th>\n",
       "      <th>pixel3</th>\n",
       "      <th>pixel4</th>\n",
       "      <th>pixel5</th>\n",
       "      <th>pixel6</th>\n",
       "      <th>pixel7</th>\n",
       "      <th>pixel8</th>\n",
       "      <th>...</th>\n",
       "      <th>pixel774</th>\n",
       "      <th>pixel775</th>\n",
       "      <th>pixel776</th>\n",
       "      <th>pixel777</th>\n",
       "      <th>pixel778</th>\n",
       "      <th>pixel779</th>\n",
       "      <th>pixel780</th>\n",
       "      <th>pixel781</th>\n",
       "      <th>pixel782</th>\n",
       "      <th>pixel783</th>\n",
       "    </tr>\n",
       "  </thead>\n",
       "  <tbody>\n",
       "    <tr>\n",
       "      <th>0</th>\n",
       "      <td>1</td>\n",
       "      <td>0</td>\n",
       "      <td>0</td>\n",
       "      <td>0</td>\n",
       "      <td>0</td>\n",
       "      <td>0</td>\n",
       "      <td>0</td>\n",
       "      <td>0</td>\n",
       "      <td>0</td>\n",
       "      <td>0</td>\n",
       "      <td>...</td>\n",
       "      <td>0</td>\n",
       "      <td>0</td>\n",
       "      <td>0</td>\n",
       "      <td>0</td>\n",
       "      <td>0</td>\n",
       "      <td>0</td>\n",
       "      <td>0</td>\n",
       "      <td>0</td>\n",
       "      <td>0</td>\n",
       "      <td>0</td>\n",
       "    </tr>\n",
       "    <tr>\n",
       "      <th>1</th>\n",
       "      <td>0</td>\n",
       "      <td>0</td>\n",
       "      <td>0</td>\n",
       "      <td>0</td>\n",
       "      <td>0</td>\n",
       "      <td>0</td>\n",
       "      <td>0</td>\n",
       "      <td>0</td>\n",
       "      <td>0</td>\n",
       "      <td>0</td>\n",
       "      <td>...</td>\n",
       "      <td>0</td>\n",
       "      <td>0</td>\n",
       "      <td>0</td>\n",
       "      <td>0</td>\n",
       "      <td>0</td>\n",
       "      <td>0</td>\n",
       "      <td>0</td>\n",
       "      <td>0</td>\n",
       "      <td>0</td>\n",
       "      <td>0</td>\n",
       "    </tr>\n",
       "    <tr>\n",
       "      <th>2</th>\n",
       "      <td>1</td>\n",
       "      <td>0</td>\n",
       "      <td>0</td>\n",
       "      <td>0</td>\n",
       "      <td>0</td>\n",
       "      <td>0</td>\n",
       "      <td>0</td>\n",
       "      <td>0</td>\n",
       "      <td>0</td>\n",
       "      <td>0</td>\n",
       "      <td>...</td>\n",
       "      <td>0</td>\n",
       "      <td>0</td>\n",
       "      <td>0</td>\n",
       "      <td>0</td>\n",
       "      <td>0</td>\n",
       "      <td>0</td>\n",
       "      <td>0</td>\n",
       "      <td>0</td>\n",
       "      <td>0</td>\n",
       "      <td>0</td>\n",
       "    </tr>\n",
       "    <tr>\n",
       "      <th>3</th>\n",
       "      <td>4</td>\n",
       "      <td>0</td>\n",
       "      <td>0</td>\n",
       "      <td>0</td>\n",
       "      <td>0</td>\n",
       "      <td>0</td>\n",
       "      <td>0</td>\n",
       "      <td>0</td>\n",
       "      <td>0</td>\n",
       "      <td>0</td>\n",
       "      <td>...</td>\n",
       "      <td>0</td>\n",
       "      <td>0</td>\n",
       "      <td>0</td>\n",
       "      <td>0</td>\n",
       "      <td>0</td>\n",
       "      <td>0</td>\n",
       "      <td>0</td>\n",
       "      <td>0</td>\n",
       "      <td>0</td>\n",
       "      <td>0</td>\n",
       "    </tr>\n",
       "    <tr>\n",
       "      <th>4</th>\n",
       "      <td>0</td>\n",
       "      <td>0</td>\n",
       "      <td>0</td>\n",
       "      <td>0</td>\n",
       "      <td>0</td>\n",
       "      <td>0</td>\n",
       "      <td>0</td>\n",
       "      <td>0</td>\n",
       "      <td>0</td>\n",
       "      <td>0</td>\n",
       "      <td>...</td>\n",
       "      <td>0</td>\n",
       "      <td>0</td>\n",
       "      <td>0</td>\n",
       "      <td>0</td>\n",
       "      <td>0</td>\n",
       "      <td>0</td>\n",
       "      <td>0</td>\n",
       "      <td>0</td>\n",
       "      <td>0</td>\n",
       "      <td>0</td>\n",
       "    </tr>\n",
       "  </tbody>\n",
       "</table>\n",
       "<p>5 rows × 785 columns</p>\n",
       "</div>"
      ],
      "text/plain": [
       "   label  pixel0  pixel1  pixel2  pixel3  pixel4  pixel5  pixel6  pixel7  \\\n",
       "0      1       0       0       0       0       0       0       0       0   \n",
       "1      0       0       0       0       0       0       0       0       0   \n",
       "2      1       0       0       0       0       0       0       0       0   \n",
       "3      4       0       0       0       0       0       0       0       0   \n",
       "4      0       0       0       0       0       0       0       0       0   \n",
       "\n",
       "   pixel8    ...     pixel774  pixel775  pixel776  pixel777  pixel778  \\\n",
       "0       0    ...            0         0         0         0         0   \n",
       "1       0    ...            0         0         0         0         0   \n",
       "2       0    ...            0         0         0         0         0   \n",
       "3       0    ...            0         0         0         0         0   \n",
       "4       0    ...            0         0         0         0         0   \n",
       "\n",
       "   pixel779  pixel780  pixel781  pixel782  pixel783  \n",
       "0         0         0         0         0         0  \n",
       "1         0         0         0         0         0  \n",
       "2         0         0         0         0         0  \n",
       "3         0         0         0         0         0  \n",
       "4         0         0         0         0         0  \n",
       "\n",
       "[5 rows x 785 columns]"
      ]
     },
     "execution_count": 3,
     "metadata": {},
     "output_type": "execute_result"
    }
   ],
   "source": [
    "df_train.head()"
   ]
  },
  {
   "cell_type": "code",
   "execution_count": 4,
   "metadata": {},
   "outputs": [
    {
     "name": "stdout",
     "output_type": "stream",
     "text": [
      "<class 'pandas.core.frame.DataFrame'>\n",
      "RangeIndex: 42000 entries, 0 to 41999\n",
      "Columns: 785 entries, label to pixel783\n",
      "dtypes: int64(785)\n",
      "memory usage: 251.5 MB\n"
     ]
    }
   ],
   "source": [
    "df_train.info()"
   ]
  },
  {
   "cell_type": "code",
   "execution_count": 5,
   "metadata": {
    "collapsed": true
   },
   "outputs": [],
   "source": [
    "y_train = df_train['label']\n",
    "X_train = df_train.drop('label', axis=1).as_matrix()"
   ]
  },
  {
   "cell_type": "code",
   "execution_count": 6,
   "metadata": {
    "collapsed": true
   },
   "outputs": [],
   "source": [
    "X_test = df_test.as_matrix()"
   ]
  },
  {
   "cell_type": "code",
   "execution_count": 7,
   "metadata": {
    "collapsed": true
   },
   "outputs": [],
   "source": [
    "X_train = X_train.reshape(X_train.shape[0], 1, 28, 28).astype('float32')\n",
    "X_test = X_test.reshape(X_test.shape[0], 1, 28, 28).astype('float32')\n",
    "X_train = X_train / 255\n",
    "X_test = X_test / 255\n",
    "\n"
   ]
  },
  {
   "cell_type": "code",
   "execution_count": 8,
   "metadata": {},
   "outputs": [
    {
     "data": {
      "text/plain": [
       "(28000, 1, 28, 28)"
      ]
     },
     "execution_count": 8,
     "metadata": {},
     "output_type": "execute_result"
    }
   ],
   "source": [
    "X_test.shape"
   ]
  },
  {
   "cell_type": "code",
   "execution_count": 9,
   "metadata": {
    "collapsed": true
   },
   "outputs": [],
   "source": [
    "y_train = np_utils.to_categorical(y_train)\n",
    "\n"
   ]
  },
  {
   "cell_type": "code",
   "execution_count": 10,
   "metadata": {
    "collapsed": true
   },
   "outputs": [],
   "source": [
    "num_classes = 10"
   ]
  },
  {
   "cell_type": "code",
   "execution_count": 11,
   "metadata": {
    "collapsed": true
   },
   "outputs": [],
   "source": [
    "\n",
    "#(X_train, y_train), (X_test, y_test) = mnist.load_data()\n",
    "#X_train = X_train.reshape(X_train.shape[0], 1, 28, 28).astype('float32')\n",
    "#X_test = X_test.reshape(X_test.shape[0], 1, 28, 28).astype('float32')\n",
    "#X_train = X_train / 255\n",
    "#X_test = X_test / 255\n",
    "\n",
    "#y_train = np_utils.to_categorical(y_train)\n",
    "#y_test = np_utils.to_categorical(y_test)\n",
    "#num_classes = y_test.shape[1]\n",
    "\n",
    "\n"
   ]
  },
  {
   "cell_type": "markdown",
   "metadata": {},
   "source": [
    "## Image Augmentation\n",
    "\n",
    "For some examples of the image augmentation you can do, see below link. \n",
    "\n",
    "https://machinelearningmastery.com/image-augmentation-deep-learning-keras/"
   ]
  },
  {
   "cell_type": "code",
   "execution_count": 12,
   "metadata": {
    "collapsed": true
   },
   "outputs": [],
   "source": [
    "datagen = ImageDataGenerator(zoom_range = 0.1,\n",
    "                            height_shift_range = 0.1,\n",
    "                            width_shift_range = 0.1,\n",
    "                            rotation_range = 10)\n",
    "#                            featurewise_center=True, \n",
    "#                            featurewise_std_normalization=True,\n",
    "#                            zca_whitening=True)\n",
    "datagen.fit(X_train)\n",
    "\n",
    "#datagen = ImageDataGenerator(rotation_range=90, \n",
    "#    featurewise_center=True, featurewise_std_normalization=True, zca_whitening=True)\n",
    "\n"
   ]
  },
  {
   "cell_type": "code",
   "execution_count": 13,
   "metadata": {
    "collapsed": true
   },
   "outputs": [],
   "source": [
    "#from keras.optimizers import SGD\n",
    "\n",
    "#sgd = SGD(lr=0.1, momentum=0.9, decay=0.0001, nesterov=False)\n",
    "\n",
    "\n",
    "\n"
   ]
  },
  {
   "cell_type": "code",
   "execution_count": 14,
   "metadata": {
    "collapsed": true
   },
   "outputs": [],
   "source": [
    "from keras.optimizers import SGD\n",
    "\n",
    "def larger_model():\n",
    "    model = Sequential()\n",
    "    model.add(Conv2D(30, (5, 5), input_shape=(1, 28, 28), activation='relu'))\n",
    "    model.add(MaxPooling2D(pool_size=(2, 2)))\n",
    "    model.add(Conv2D(15, (3, 3), activation='relu'))\n",
    "    model.add(MaxPooling2D(pool_size=(2, 2)))\n",
    "    model.add(Dropout(0.2))\n",
    "    model.add(Flatten())\n",
    "    model.add(Dense(128, activation='relu'))\n",
    "    model.add(Dense(50, activation='relu'))\n",
    "    model.add(Dense(num_classes, activation='softmax'))\n",
    "    \n",
    "    sgd = SGD(lr=0.01, decay=1e-4, momentum=0.9, nesterov=False)\n",
    "    model.compile(loss='categorical_crossentropy', optimizer=sgd, metrics=['accuracy'])\n",
    "    return model"
   ]
  },
  {
   "cell_type": "code",
   "execution_count": 15,
   "metadata": {
    "collapsed": true
   },
   "outputs": [],
   "source": [
    "### Sample composite of layers others are using\n",
    "\n",
    "#from keras.optimizers import SGD\n",
    "\n",
    "def even_larger_model():\n",
    "    model = Sequential()\n",
    "    model.add(Conv2D(32, (5, 5), input_shape=(1, 28, 28), activation='relu'))\n",
    "    model.add(BatchNormalization())\n",
    "    model.add(Conv2D(32, (5, 5), input_shape=(1, 28, 28), activation='relu'))\n",
    "    model.add(BatchNormalization())    \n",
    "    model.add(MaxPooling2D(pool_size=(2, 2)))\n",
    "    model.add(Dropout(0.25))\n",
    "    model.add(Conv2D(64, (3, 3), activation='relu'))\n",
    "    model.add(BatchNormalization())    \n",
    "    model.add(Conv2D(64, (3, 3), activation='relu'))\n",
    "    model.add(BatchNormalization())    \n",
    "    model.add(MaxPooling2D(pool_size=(2, 2)))\n",
    "    model.add(Dropout(0.25))\n",
    "    model.add(Flatten())\n",
    "    model.add(Dense(512, activation='relu'))\n",
    "    model.add(Dropout(0.25))\n",
    "    model.add(Dense(1024, activation='relu'))\n",
    "    model.add(Dropout(0.5))\n",
    "    model.add(Dense(num_classes, activation='softmax'))\n",
    "    \n",
    "    #sgd = SGD(lr=0.01, decay=1e-4, momentum=0.9, nesterov=False)\n",
    "    model.compile(loss='categorical_crossentropy', optimizer='Adam', metrics=['accuracy'])\n",
    "    return model"
   ]
  },
  {
   "cell_type": "code",
   "execution_count": 16,
   "metadata": {
    "collapsed": true
   },
   "outputs": [],
   "source": [
    "### Model layer taken from here: https://www.kaggle.com/toregil/welcome-to-deep-learning-cnn-99\n",
    "#model = Sequential()\n",
    "#model.add(Conv2D(filters = 16, kernel_size = (3, 3), activation='relu',\n",
    "#                 input_shape = (28, 28, 1)))\n",
    "#model.add(BatchNormalization())\n",
    "#model.add(Conv2D(filters = 16, kernel_size = (3, 3), activation='relu'))\n",
    "#model.add(BatchNormalization())\n",
    "#model.add(MaxPool2D(strides=(2,2)))\n",
    "#model.add(Dropout(0.25))\n",
    "#model.add(Conv2D(filters = 32, kernel_size = (3, 3), activation='relu'))\n",
    "#model.add(BatchNormalization())\n",
    "#model.add(Conv2D(filters = 32, kernel_size = (3, 3), activation='relu'))\n",
    "#model.add(BatchNormalization())\n",
    "#model.add(MaxPool2D(strides=(2,2)))\n",
    "#model.add(Dropout(0.25))\n",
    "#model.add(Flatten())\n",
    "#model.add(Dense(512, activation='relu'))\n",
    "#model.add(Dropout(0.25))\n",
    "#model.add(Dense(1024, activation='relu'))\n",
    "#model.add(Dropout(0.5))\n",
    "#model.add(Dense(10, activation='softmax'))\n",
    "\n",
    "\n",
    "### Model taken from here: https://www.kaggle.com/yassineghouzam/introduction-to-cnn-keras-0-997-top-6\n",
    "#model = Sequential()\n",
    "#model.add(Conv2D(filters = 32, kernel_size = (5,5),padding = 'Same', \n",
    "#                 activation ='relu', input_shape = (28,28,1)))\n",
    "#model.add(Conv2D(filters = 32, kernel_size = (5,5),padding = 'Same', \n",
    "#                 activation ='relu'))\n",
    "#model.add(MaxPool2D(pool_size=(2,2)))\n",
    "#model.add(Dropout(0.25))\n",
    "#model.add(Conv2D(filters = 64, kernel_size = (3,3),padding = 'Same', \n",
    "#                 activation ='relu'))\n",
    "#model.add(Conv2D(filters = 64, kernel_size = (3,3),padding = 'Same', \n",
    "#                 activation ='relu'))\n",
    "#model.add(MaxPool2D(pool_size=(2,2), strides=(2,2)))\n",
    "#model.add(Dropout(0.25))\n",
    "#model.add(Flatten())\n",
    "#model.add(Dense(256, activation = \"relu\"))\n",
    "#model.add(Dropout(0.5))\n",
    "#model.add(Dense(10, activation = \"softmax\"))\n",
    "\n"
   ]
  },
  {
   "cell_type": "code",
   "execution_count": 17,
   "metadata": {
    "collapsed": true
   },
   "outputs": [],
   "source": [
    "checkpoint = ModelCheckpoint('weights.best.hdf5', monitor='val_acc', save_best_only=True, mode='max')\n",
    "#callbacks_list = [checkpoint]\n"
   ]
  },
  {
   "cell_type": "code",
   "execution_count": 18,
   "metadata": {
    "collapsed": true
   },
   "outputs": [],
   "source": [
    "x_train_small, x_val, y_train_small, y_val = train_test_split(X_train, y_train, test_size = 0.1)"
   ]
  },
  {
   "cell_type": "code",
   "execution_count": 19,
   "metadata": {
    "collapsed": true
   },
   "outputs": [],
   "source": [
    "annealer = LearningRateScheduler(lambda x: 1e-3 * 0.9 ** x)\n",
    "\n",
    "\n",
    "#learning_rate_reduction = ReduceLROnPlateau(monitor='val_acc', \n",
    "#                                            patience=3, \n",
    "#                                            verbose=1, \n",
    "#                                            factor=0.5, \n",
    "#                                            min_lr=0.00001)\n"
   ]
  },
  {
   "cell_type": "code",
   "execution_count": 20,
   "metadata": {},
   "outputs": [
    {
     "name": "stdout",
     "output_type": "stream",
     "text": [
      "Epoch 1/30\n",
      "1182/1182 [==============================] - 218s 184ms/step - loss: 0.4115 - acc: 0.8713 - val_loss: 0.0771 - val_acc: 0.9748\n",
      "Epoch 2/30\n",
      "1182/1182 [==============================] - 213s 180ms/step - loss: 0.1499 - acc: 0.9563 - val_loss: 0.0485 - val_acc: 0.9860\n",
      "Epoch 3/30\n",
      "1182/1182 [==============================] - 212s 179ms/step - loss: 0.1216 - acc: 0.9659 - val_loss: 0.0389 - val_acc: 0.9886\n",
      "Epoch 4/30\n",
      "1182/1182 [==============================] - 212s 179ms/step - loss: 0.1004 - acc: 0.9725 - val_loss: 0.0292 - val_acc: 0.9917\n",
      "Epoch 5/30\n",
      "1182/1182 [==============================] - 211s 179ms/step - loss: 0.0866 - acc: 0.9758 - val_loss: 0.0446 - val_acc: 0.9864\n",
      "Epoch 6/30\n",
      "1182/1182 [==============================] - 210s 177ms/step - loss: 0.0737 - acc: 0.9790 - val_loss: 0.0218 - val_acc: 0.9945\n",
      "Epoch 7/30\n",
      "1182/1182 [==============================] - 203s 172ms/step - loss: 0.0691 - acc: 0.9802 - val_loss: 0.0252 - val_acc: 0.9936\n",
      "Epoch 8/30\n",
      "1182/1182 [==============================] - 203s 172ms/step - loss: 0.0645 - acc: 0.9822 - val_loss: 0.0313 - val_acc: 0.9902\n",
      "Epoch 9/30\n",
      "1182/1182 [==============================] - 202s 171ms/step - loss: 0.0563 - acc: 0.9845 - val_loss: 0.0225 - val_acc: 0.9936\n",
      "Epoch 10/30\n",
      "1182/1182 [==============================] - 202s 171ms/step - loss: 0.0514 - acc: 0.9851 - val_loss: 0.0206 - val_acc: 0.9952\n",
      "Epoch 11/30\n",
      "1182/1182 [==============================] - 202s 171ms/step - loss: 0.0504 - acc: 0.9856 - val_loss: 0.0301 - val_acc: 0.9924\n",
      "Epoch 12/30\n",
      "1182/1182 [==============================] - 202s 171ms/step - loss: 0.0434 - acc: 0.9873 - val_loss: 0.0162 - val_acc: 0.9964\n",
      "Epoch 13/30\n",
      "1182/1182 [==============================] - 202s 171ms/step - loss: 0.0406 - acc: 0.9883 - val_loss: 0.0174 - val_acc: 0.9957\n",
      "Epoch 14/30\n",
      "1182/1182 [==============================] - 202s 170ms/step - loss: 0.0395 - acc: 0.9886 - val_loss: 0.0197 - val_acc: 0.9950\n",
      "Epoch 15/30\n",
      "1182/1182 [==============================] - 201s 170ms/step - loss: 0.0363 - acc: 0.9890 - val_loss: 0.0209 - val_acc: 0.9955\n",
      "Epoch 16/30\n",
      "1182/1182 [==============================] - 201s 170ms/step - loss: 0.0368 - acc: 0.9889 - val_loss: 0.0153 - val_acc: 0.9962\n",
      "Epoch 17/30\n",
      "1182/1182 [==============================] - 202s 171ms/step - loss: 0.0327 - acc: 0.9899 - val_loss: 0.0165 - val_acc: 0.9967\n",
      "Epoch 18/30\n",
      "1182/1182 [==============================] - 202s 171ms/step - loss: 0.0330 - acc: 0.9901 - val_loss: 0.0173 - val_acc: 0.9962\n",
      "Epoch 19/30\n",
      "1182/1182 [==============================] - 202s 171ms/step - loss: 0.0306 - acc: 0.9915 - val_loss: 0.0158 - val_acc: 0.9962\n",
      "Epoch 20/30\n",
      "1182/1182 [==============================] - 206s 175ms/step - loss: 0.0292 - acc: 0.9910 - val_loss: 0.0157 - val_acc: 0.9971\n",
      "Epoch 21/30\n",
      "1182/1182 [==============================] - 219s 186ms/step - loss: 0.0256 - acc: 0.9923 - val_loss: 0.0150 - val_acc: 0.9967\n",
      "Epoch 22/30\n",
      "1182/1182 [==============================] - 219s 185ms/step - loss: 0.0284 - acc: 0.9915 - val_loss: 0.0160 - val_acc: 0.9964\n",
      "Epoch 23/30\n",
      "1182/1182 [==============================] - 221s 187ms/step - loss: 0.0274 - acc: 0.9920 - val_loss: 0.0144 - val_acc: 0.9971\n",
      "Epoch 24/30\n",
      "1182/1182 [==============================] - 231s 196ms/step - loss: 0.0271 - acc: 0.9918 - val_loss: 0.0147 - val_acc: 0.9967\n",
      "Epoch 25/30\n",
      "1182/1182 [==============================] - 218s 185ms/step - loss: 0.0257 - acc: 0.9920 - val_loss: 0.0131 - val_acc: 0.9969\n",
      "Epoch 26/30\n",
      "1182/1182 [==============================] - 223s 188ms/step - loss: 0.0245 - acc: 0.9930 - val_loss: 0.0139 - val_acc: 0.9964\n",
      "Epoch 27/30\n",
      "1182/1182 [==============================] - 215s 182ms/step - loss: 0.0230 - acc: 0.9932 - val_loss: 0.0133 - val_acc: 0.9967\n",
      "Epoch 28/30\n",
      "1182/1182 [==============================] - 224s 190ms/step - loss: 0.0233 - acc: 0.9932 - val_loss: 0.0142 - val_acc: 0.9971\n",
      "Epoch 29/30\n",
      "1182/1182 [==============================] - 217s 184ms/step - loss: 0.0227 - acc: 0.9928 - val_loss: 0.0130 - val_acc: 0.9974\n",
      "Epoch 30/30\n",
      "1182/1182 [==============================] - 224s 190ms/step - loss: 0.0221 - acc: 0.9931 - val_loss: 0.0128 - val_acc: 0.9971\n",
      "[0.0127688819593892, 0.9971428571428571]\n"
     ]
    }
   ],
   "source": [
    "#model = larger_model()\n",
    "model = even_larger_model()\n",
    "#history = model.fit(X_train, y_train, validation_data=(X_test, y_test), epochs=10, batch_size=200)\n",
    "#scores = model.evaluate(X_test, y_test, verbose=0)\n",
    "\n",
    "\n",
    "#history = model.fit(X_train, y_train, validation_split = 0.1, epochs=20, batch_size=200, callbacks=callbacks_list)\n",
    "\n",
    "\n",
    "#history =  model.fit_generator(datagen.flow(X_train, y_train, batch_size=32), epochs=20, callbacks=callbacks_list)\n",
    "history =  model.fit_generator(datagen.flow(x_train_small, y_train_small), \n",
    "                               validation_data= (x_val, y_val), epochs=30, callbacks=[checkpoint, annealer])#callbacks=[annealer, checkpoint])\n",
    "\n",
    "#history =  model.fit_generator(datagen.flow(X_train, y_train), epochs=10, callbacks=[checkpoint])\n",
    "\n",
    "\n",
    "scores = model.evaluate(x_val, y_val, verbose=0)\n",
    "print(scores)\n"
   ]
  },
  {
   "cell_type": "code",
   "execution_count": 21,
   "metadata": {},
   "outputs": [
    {
     "data": {
      "image/png": "[encoded data removed]",
      "text/plain": [
       "<matplotlib.figure.Figure at 0x1287f7c18>"
      ]
     },
     "metadata": {},
     "output_type": "display_data"
    }
   ],
   "source": [
    "# Info on past runs: \n",
    "# Using 20 epochs, no image data generato\n",
    "#37800/37800 [==============================] - 52s 1ms/step - loss: 0.0195 - acc: 0.9939 - val_loss: 0.0267 - val_acc: 0.9921\n",
    "\n",
    "# Even bigger model with \"only\" 10 epochs!\n",
    "#Epoch 10/10\n",
    "#1182/1182 [==============================] - 231s 195ms/step - loss: 0.0568 - acc: 0.9823 - val_loss: 0.0245 - val_acc: 0.9917\n",
    "#[0.024522902995678515, 0.9916666666666667]\n",
    "\n",
    "plt.plot(history.history['loss'], label='Loss')\n",
    "plt.plot(history.history['acc'], label='Accuracy')\n",
    "plt.xlabel('Epoch')\n",
    "plt.legend()\n",
    "\n",
    "plt.show()"
   ]
  },
  {
   "cell_type": "code",
   "execution_count": 22,
   "metadata": {},
   "outputs": [
    {
     "data": {
      "image/png": "[encoded data removed]",
      "text/plain": [
       "<matplotlib.figure.Figure at 0x12a7d3320>"
      ]
     },
     "metadata": {},
     "output_type": "display_data"
    }
   ],
   "source": [
    "plt.subplot(2,1,1)\n",
    "plt.semilogy(history.history['loss'], label='Loss')\n",
    "plt.title('Loss')\n",
    "plt.subplot(2,1,2)\n",
    "plt.semilogy(history.history['acc'], label='Accuracy')\n",
    "plt.title('Accuracy')\n",
    "plt.xlabel('Epoch')\n",
    "\n",
    "plt.show()"
   ]
  },
  {
   "cell_type": "code",
   "execution_count": null,
   "metadata": {
    "collapsed": true
   },
   "outputs": [],
   "source": [
    "plt.subplot(2,1,1)\n",
    "plt.semilogy(history.history['loss'], label='Loss')\n",
    "plt.title('Loss')\n",
    "plt.subplot(2,1,2)\n",
    "plt.semilogy(history.history['acc'], label='Accuracy')\n",
    "plt.title('Accuracy')\n",
    "plt.xlabel('Epoch')\n",
    "#plt.legend()\n",
    "\n",
    "plt.show()"
   ]
  },
  {
   "cell_type": "code",
   "execution_count": 23,
   "metadata": {},
   "outputs": [
    {
     "data": {
      "text/plain": [
       "array([[391,   0,   1,   0,   0,   0,   0,   0,   1,   0],\n",
       "       [  0, 466,   0,   0,   0,   0,   0,   1,   0,   0],\n",
       "       [  0,   0, 405,   0,   0,   0,   0,   0,   0,   0],\n",
       "       [  0,   0,   0, 428,   0,   1,   0,   1,   1,   1],\n",
       "       [  0,   0,   0,   0, 436,   0,   0,   0,   0,   0],\n",
       "       [  0,   0,   0,   0,   0, 375,   0,   0,   0,   0],\n",
       "       [  0,   0,   0,   0,   0,   1, 424,   0,   0,   0],\n",
       "       [  0,   0,   0,   0,   1,   0,   0, 457,   0,   0],\n",
       "       [  0,   0,   0,   0,   0,   0,   0,   0, 409,   0],\n",
       "       [  0,   0,   0,   0,   2,   0,   0,   0,   1, 397]])"
      ]
     },
     "execution_count": 23,
     "metadata": {},
     "output_type": "execute_result"
    }
   ],
   "source": [
    "y_pred =np.argmax(model.predict(x_val),axis = 1) \n",
    "y_true = np.argmax(y_val, axis=1)\n",
    "confusion_matrix(y_true, y_pred)"
   ]
  },
  {
   "cell_type": "code",
   "execution_count": 24,
   "metadata": {
    "collapsed": true
   },
   "outputs": [],
   "source": [
    "y_test = model.predict(X_test)"
   ]
  },
  {
   "cell_type": "code",
   "execution_count": 25,
   "metadata": {},
   "outputs": [
    {
     "data": {
      "text/plain": [
       "array([[3.3603197e-15, 1.1698284e-14, 1.0000000e+00, ..., 5.2563953e-10,\n",
       "        9.1805306e-11, 1.0614852e-12],\n",
       "       [9.9999762e-01, 2.1176656e-11, 1.1817222e-07, ..., 7.8301349e-10,\n",
       "        2.7339984e-08, 2.2810161e-07],\n",
       "       [3.5126986e-09, 8.7889723e-11, 4.3306101e-09, ..., 9.7708082e-08,\n",
       "        9.9346289e-06, 9.9997663e-01],\n",
       "       ...,\n",
       "       [7.9364499e-27, 3.2756042e-19, 6.1118714e-17, ..., 3.1226833e-19,\n",
       "        1.6997332e-16, 2.0173053e-16],\n",
       "       [1.5951722e-09, 1.3073601e-11, 4.8700416e-10, ..., 3.4446241e-08,\n",
       "        2.7993810e-08, 9.9999487e-01],\n",
       "       [4.6157360e-17, 1.5739765e-16, 1.0000000e+00, ..., 9.5689142e-12,\n",
       "        3.8707657e-12, 2.7163759e-14]], dtype=float32)"
      ]
     },
     "execution_count": 25,
     "metadata": {},
     "output_type": "execute_result"
    }
   ],
   "source": [
    "y_test"
   ]
  },
  {
   "cell_type": "code",
   "execution_count": 26,
   "metadata": {},
   "outputs": [
    {
     "data": {
      "text/plain": [
       "array([2, 0, 9, ..., 3, 9, 2])"
      ]
     },
     "execution_count": 26,
     "metadata": {},
     "output_type": "execute_result"
    }
   ],
   "source": [
    "y_test_digits = np.argmax(y_test,axis = 1) \n",
    "y_test_digits"
   ]
  },
  {
   "cell_type": "code",
   "execution_count": 27,
   "metadata": {},
   "outputs": [
    {
     "data": {
      "text/html": [
       "<div>\n",
       "<style>\n",
       "    .dataframe thead tr:only-child th {\n",
       "        text-align: right;\n",
       "    }\n",
       "\n",
       "    .dataframe thead th {\n",
       "        text-align: left;\n",
       "    }\n",
       "\n",
       "    .dataframe tbody tr th {\n",
       "        vertical-align: top;\n",
       "    }\n",
       "</style>\n",
       "<table border=\"1\" class=\"dataframe\">\n",
       "  <thead>\n",
       "    <tr style=\"text-align: right;\">\n",
       "      <th></th>\n",
       "      <th>ImageId</th>\n",
       "      <th>Label</th>\n",
       "    </tr>\n",
       "  </thead>\n",
       "  <tbody>\n",
       "    <tr>\n",
       "      <th>0</th>\n",
       "      <td>1</td>\n",
       "      <td>2</td>\n",
       "    </tr>\n",
       "    <tr>\n",
       "      <th>1</th>\n",
       "      <td>2</td>\n",
       "      <td>0</td>\n",
       "    </tr>\n",
       "    <tr>\n",
       "      <th>2</th>\n",
       "      <td>3</td>\n",
       "      <td>9</td>\n",
       "    </tr>\n",
       "    <tr>\n",
       "      <th>3</th>\n",
       "      <td>4</td>\n",
       "      <td>0</td>\n",
       "    </tr>\n",
       "    <tr>\n",
       "      <th>4</th>\n",
       "      <td>5</td>\n",
       "      <td>3</td>\n",
       "    </tr>\n",
       "  </tbody>\n",
       "</table>\n",
       "</div>"
      ],
      "text/plain": [
       "   ImageId  Label\n",
       "0        1      2\n",
       "1        2      0\n",
       "2        3      9\n",
       "3        4      0\n",
       "4        5      3"
      ]
     },
     "execution_count": 27,
     "metadata": {},
     "output_type": "execute_result"
    }
   ],
   "source": [
    "#ImageId,Label\n",
    "\n",
    "\n",
    "y_output = pd.Series(y_test_digits,name=\"Label\")\n",
    "df_output= pd.concat([pd.Series(data=range(1,28001), name='ImageId'), y_output], axis=1)\n",
    "df_output.head()"
   ]
  },
  {
   "cell_type": "code",
   "execution_count": 28,
   "metadata": {
    "collapsed": true
   },
   "outputs": [],
   "source": [
    "df_output.to_csv(\"CNN_MNIST.csv\",index=False)\n"
   ]
  },
  {
   "cell_type": "code",
   "execution_count": null,
   "metadata": {
    "collapsed": true
   },
   "outputs": [],
   "source": []
  }
 ],
 "metadata": {
  "kernelspec": {
   "display_name": "Python 3",
   "language": "python",
   "name": "python3"
  },
  "language_info": {
   "codemirror_mode": {
    "name": "ipython",
    "version": 3
   },
   "file_extension": ".py",
   "mimetype": "text/x-python",
   "name": "python",
   "nbconvert_exporter": "python",
   "pygments_lexer": "ipython3",
   "version": "3.6.8"
  }
 },
 "nbformat": 4,
 "nbformat_minor": 2
}
