{
 "cells": [
  {
   "cell_type": "markdown",
   "metadata": {},
   "source": [
    "Notes: \n",
    "\n",
    "First and foremost this notebook starts with machinelearningmastery.com's excellent tutorial: \n",
    "https://machinelearningmastery.com/handwritten-digit-recognition-using-convolutional-neural-networks-python-keras/\n",
    "\n",
    "I have also been studying Deep Learning with Andrew Ng and deeplearning.ai's coursera course, and Fast.ai's course, and highly recommend both to interested learners. "
   ]
  },
  {
   "cell_type": "code",
   "execution_count": 1,
   "metadata": {},
   "outputs": [
    {
     "name": "stderr",
     "output_type": "stream",
     "text": [
      "/Users/rosscheung/anaconda3/lib/python3.6/site-packages/h5py/__init__.py:34: FutureWarning: Conversion of the second argument of issubdtype from `float` to `np.floating` is deprecated. In future, it will be treated as `np.float64 == np.dtype(float).type`.\n",
      "  from ._conv import register_converters as _register_converters\n",
      "Using TensorFlow backend.\n",
      "/Users/rosscheung/anaconda3/lib/python3.6/importlib/_bootstrap.py:205: RuntimeWarning: compiletime version 3.5 of module 'tensorflow.python.framework.fast_tensor_util' does not match runtime version 3.6\n",
      "  return f(*args, **kwds)\n"
     ]
    }
   ],
   "source": [
    "import pandas as pd\n",
    "import numpy as np\n",
    "import matplotlib.pyplot as plt\n",
    "\n",
    "from keras.models import Sequential\n",
    "from keras.layers import Dense, Conv2D, MaxPooling2D, Flatten, Dropout\n",
    "\n",
    "from keras import backend as K\n",
    "K.set_image_dim_ordering('th')\n",
    "from keras.callbacks import ModelCheckpoint\n",
    "\n",
    "from keras.utils import np_utils\n",
    "\n",
    "\n",
    "\n"
   ]
  },
  {
   "cell_type": "code",
   "execution_count": 2,
   "metadata": {
    "collapsed": true
   },
   "outputs": [],
   "source": [
    "from keras.datasets import mnist\n",
    "\n",
    "(X_train, y_train), (X_test, y_test) = mnist.load_data()"
   ]
  },
  {
   "cell_type": "code",
   "execution_count": 3,
   "metadata": {},
   "outputs": [
    {
     "data": {
      "text/plain": [
       "array([5, 0, 4, ..., 5, 6, 8], dtype=uint8)"
      ]
     },
     "execution_count": 3,
     "metadata": {},
     "output_type": "execute_result"
    }
   ],
   "source": [
    "y_train"
   ]
  },
  {
   "cell_type": "code",
   "execution_count": 4,
   "metadata": {},
   "outputs": [
    {
     "data": {
      "text/plain": [
       "60000"
      ]
     },
     "execution_count": 4,
     "metadata": {},
     "output_type": "execute_result"
    }
   ],
   "source": [
    "len(X_train)"
   ]
  },
  {
   "cell_type": "markdown",
   "metadata": {},
   "source": [
    "# Let's plot the first dozen MNIST files in the training set\n",
    "\n",
    "There are 60,000 in total, so don't plot them all...."
   ]
  },
  {
   "cell_type": "code",
   "execution_count": 5,
   "metadata": {},
   "outputs": [
    {
     "data": {
      "image/png": "[encoded data removed]",
      "text/plain": [
       "<matplotlib.figure.Figure at 0x115fcbba8>"
      ]
     },
     "metadata": {},
     "output_type": "display_data"
    }
   ],
   "source": [
    "plt.figure(figsize=(10,10))\n",
    "for i in range(0,12): \n",
    "\n",
    "    pixels = X_train[i]\n",
    "    \n",
    "    plt.subplot(3, 4, i+1)\n",
    "    plt.title('Label is {label}'.format(label=y_train[i]))\n",
    "    plt.imshow(pixels, cmap='gray')\n",
    "\n",
    "plt.show()\n"
   ]
  },
  {
   "cell_type": "markdown",
   "metadata": {},
   "source": [
    "### Let's convert the images into single dimension arrays\n",
    "\n",
    "Should be ~784 total"
   ]
  },
  {
   "cell_type": "code",
   "execution_count": 6,
   "metadata": {
    "collapsed": true
   },
   "outputs": [],
   "source": [
    "num_pixels = X_train.shape[1] * X_train.shape[2] \n",
    "\n",
    "X_train = X_train.reshape(X_train.shape[0], num_pixels).astype('float32')\n",
    "X_test = X_test.reshape(X_test.shape[0], num_pixels).astype('float32')\n",
    "\n",
    "#X_train = X_train.reshape(X_train.shape[0], 1, 28, 28)\n",
    "#X_test = X_test.reshape(X_test.shape[0], 1, 28, 28)\n",
    "\n"
   ]
  },
  {
   "cell_type": "markdown",
   "metadata": {},
   "source": [
    "### Now we normalize the image pixel data from 0-255, to 0-1\n",
    "\n",
    "https://en.wikipedia.org/wiki/Feature_scaling"
   ]
  },
  {
   "cell_type": "code",
   "execution_count": 7,
   "metadata": {
    "collapsed": true
   },
   "outputs": [],
   "source": [
    "\n",
    "X_train = X_train / 255\n",
    "X_test = X_test / 255\n"
   ]
  },
  {
   "cell_type": "markdown",
   "metadata": {},
   "source": [
    "## Convert y_train and y_test into categorical variables of the numbers from 0 to 9. \n",
    "\n",
    "Luckily Keras has a handy utility for this"
   ]
  },
  {
   "cell_type": "code",
   "execution_count": 8,
   "metadata": {},
   "outputs": [
    {
     "data": {
      "text/plain": [
       "10"
      ]
     },
     "execution_count": 8,
     "metadata": {},
     "output_type": "execute_result"
    }
   ],
   "source": [
    "\n",
    "y_train = np_utils.to_categorical(y_train)\n",
    "y_test = np_utils.to_categorical(y_test)\n",
    "\n",
    "num_classes = y_test.shape[1]\n",
    "\n",
    "num_classes"
   ]
  },
  {
   "cell_type": "markdown",
   "metadata": {},
   "source": [
    "### Let's define a simple neural network  model here\n",
    "\n",
    "This includes the dimensions (e.g. depth of the model) here"
   ]
  },
  {
   "cell_type": "code",
   "execution_count": 9,
   "metadata": {
    "collapsed": true
   },
   "outputs": [],
   "source": [
    "model = Sequential()\n",
    "model.add(Dense(num_pixels, input_dim=num_pixels, kernel_initializer='normal', activation='relu'))\n",
    "model.add(Dense(num_classes, kernel_initializer='normal', activation='softmax'))\n",
    "# Compile model\n",
    "model.compile(loss='categorical_crossentropy', optimizer='adam', metrics=['accuracy'])\n"
   ]
  },
  {
   "cell_type": "code",
   "execution_count": 10,
   "metadata": {},
   "outputs": [
    {
     "name": "stdout",
     "output_type": "stream",
     "text": [
      "Train on 60000 samples, validate on 10000 samples\n",
      "Epoch 1/10\n",
      " - 3s - loss: 0.2811 - acc: 0.9199 - val_loss: 0.1349 - val_acc: 0.9610\n",
      "Epoch 2/10\n",
      " - 3s - loss: 0.1118 - acc: 0.9675 - val_loss: 0.0917 - val_acc: 0.9738\n",
      "Epoch 3/10\n",
      " - 3s - loss: 0.0718 - acc: 0.9794 - val_loss: 0.0845 - val_acc: 0.9741\n",
      "Epoch 4/10\n",
      " - 3s - loss: 0.0502 - acc: 0.9853 - val_loss: 0.0689 - val_acc: 0.9800\n",
      "Epoch 5/10\n",
      " - 3s - loss: 0.0367 - acc: 0.9901 - val_loss: 0.0661 - val_acc: 0.9797\n",
      "Epoch 6/10\n",
      " - 3s - loss: 0.0268 - acc: 0.9926 - val_loss: 0.0631 - val_acc: 0.9804\n",
      "Epoch 7/10\n",
      " - 3s - loss: 0.0191 - acc: 0.9951 - val_loss: 0.0571 - val_acc: 0.9819\n",
      "Epoch 8/10\n",
      " - 3s - loss: 0.0144 - acc: 0.9965 - val_loss: 0.0646 - val_acc: 0.9805\n",
      "Epoch 9/10\n",
      " - 3s - loss: 0.0111 - acc: 0.9975 - val_loss: 0.0643 - val_acc: 0.9804\n",
      "Epoch 10/10\n",
      " - 3s - loss: 0.0084 - acc: 0.9984 - val_loss: 0.0568 - val_acc: 0.9830\n"
     ]
    }
   ],
   "source": [
    "history = model.fit(X_train, y_train, validation_data=(X_test, y_test), epochs=10, batch_size=200, verbose=2)\n",
    "scores = model.evaluate(X_test, y_test, verbose=0)\n"
   ]
  },
  {
   "cell_type": "code",
   "execution_count": 11,
   "metadata": {},
   "outputs": [
    {
     "data": {
      "image/png": "[encoded data removed]",
      "text/plain": [
       "<matplotlib.figure.Figure at 0x119843cf8>"
      ]
     },
     "metadata": {},
     "output_type": "display_data"
    }
   ],
   "source": [
    "#plt.figure(figsize=(10,10))\n",
    "\n",
    "plt.plot(history.history['loss'], label='Loss')\n",
    "plt.plot(history.history['acc'], label='Accuracy')\n",
    "plt.xlabel('Epoch')\n",
    "plt.legend()\n",
    "\n",
    "plt.show()"
   ]
  },
  {
   "cell_type": "markdown",
   "metadata": {},
   "source": [
    "## Convolutional Neural Networks\n",
    "\n",
    "Or, can we do better?\n",
    "\n",
    "First, let's load the MNIST data again, and reshape it to be:\n",
    "\n",
    "    [samples][pixels][width][height]\n"
   ]
  },
  {
   "cell_type": "code",
   "execution_count": 30,
   "metadata": {
    "collapsed": true
   },
   "outputs": [],
   "source": [
    "\n",
    "(X_train, y_train), (X_test, y_test) = mnist.load_data()\n",
    "X_train = X_train.reshape(X_train.shape[0], 1, 28, 28).astype('float32')\n",
    "X_test = X_test.reshape(X_test.shape[0], 1, 28, 28).astype('float32')"
   ]
  },
  {
   "cell_type": "code",
   "execution_count": 31,
   "metadata": {
    "collapsed": true
   },
   "outputs": [],
   "source": [
    "X_train = X_train / 255\n",
    "X_test = X_test / 255\n",
    "\n",
    "y_train = np_utils.to_categorical(y_train)\n",
    "y_test = np_utils.to_categorical(y_test)\n",
    "num_classes = y_test.shape[1]\n"
   ]
  },
  {
   "cell_type": "code",
   "execution_count": 33,
   "metadata": {},
   "outputs": [
    {
     "data": {
      "text/plain": [
       "10"
      ]
     },
     "execution_count": 33,
     "metadata": {},
     "output_type": "execute_result"
    }
   ],
   "source": []
  },
  {
   "cell_type": "code",
   "execution_count": 14,
   "metadata": {
    "collapsed": true
   },
   "outputs": [],
   "source": [
    "def baseline_model():\n",
    "    model = Sequential()\n",
    "    model.add(Conv2D(32, (5, 5), input_shape=(1, 28, 28), activation='relu'))\n",
    "    model.add(MaxPooling2D(pool_size=(2, 2)))\n",
    "    model.add(Dropout(0.2))\n",
    "    model.add(Flatten())\n",
    "    model.add(Dense(128, activation='relu'))\n",
    "    model.add(Dense(num_classes, activation='softmax'))\n",
    "    # Compile model\n",
    "    model.compile(loss='categorical_crossentropy', optimizer='adam', metrics=['accuracy'])\n",
    "    return model"
   ]
  },
  {
   "cell_type": "markdown",
   "metadata": {},
   "source": [
    "Note that this is fit on the same 10 epochs/200 batch size as the neural network above"
   ]
  },
  {
   "cell_type": "code",
   "execution_count": 15,
   "metadata": {},
   "outputs": [
    {
     "name": "stdout",
     "output_type": "stream",
     "text": [
      "Train on 60000 samples, validate on 10000 samples\n",
      "Epoch 1/10\n",
      " - 73s - loss: 0.2486 - acc: 0.9276 - val_loss: 0.0768 - val_acc: 0.9769\n",
      "Epoch 2/10\n",
      " - 74s - loss: 0.0747 - acc: 0.9778 - val_loss: 0.0566 - val_acc: 0.9819\n",
      "Epoch 3/10\n",
      " - 74s - loss: 0.0541 - acc: 0.9838 - val_loss: 0.0439 - val_acc: 0.9862\n",
      "Epoch 4/10\n",
      " - 74s - loss: 0.0408 - acc: 0.9871 - val_loss: 0.0366 - val_acc: 0.9880\n",
      "Epoch 5/10\n",
      " - 75s - loss: 0.0338 - acc: 0.9894 - val_loss: 0.0320 - val_acc: 0.9881\n",
      "Epoch 6/10\n",
      " - 75s - loss: 0.0292 - acc: 0.9910 - val_loss: 0.0323 - val_acc: 0.9891\n",
      "Epoch 7/10\n",
      " - 75s - loss: 0.0249 - acc: 0.9922 - val_loss: 0.0345 - val_acc: 0.9891\n",
      "Epoch 8/10\n",
      " - 75s - loss: 0.0204 - acc: 0.9933 - val_loss: 0.0393 - val_acc: 0.9876\n",
      "Epoch 9/10\n",
      " - 76s - loss: 0.0173 - acc: 0.9943 - val_loss: 0.0416 - val_acc: 0.9876\n",
      "Epoch 10/10\n",
      " - 75s - loss: 0.0158 - acc: 0.9950 - val_loss: 0.0329 - val_acc: 0.9885\n",
      "CNN Error: 1.15%\n"
     ]
    }
   ],
   "source": [
    "\n",
    "model = baseline_model()\n",
    "history = model.fit(X_train, y_train, validation_data=(X_test, y_test), epochs=10, batch_size=200, verbose=2)\n",
    "scores = model.evaluate(X_test, y_test, verbose=0)\n",
    "\n",
    "print(\"CNN Error: %.2f%%\" % (100-scores[1]*100))"
   ]
  },
  {
   "cell_type": "code",
   "execution_count": 16,
   "metadata": {},
   "outputs": [
    {
     "data": {
      "image/png": "[encoded data removed]",
      "text/plain": [
       "<matplotlib.figure.Figure at 0x11bc15a20>"
      ]
     },
     "metadata": {},
     "output_type": "display_data"
    }
   ],
   "source": [
    "#plt.figure(figsize=(10,10))\n",
    "\n",
    "plt.plot(history.history['loss'], label='Loss')\n",
    "plt.plot(history.history['acc'], label='Accuracy')\n",
    "plt.xlabel('Epoch')\n",
    "plt.legend()\n",
    "\n",
    "plt.show()"
   ]
  },
  {
   "cell_type": "code",
   "execution_count": 17,
   "metadata": {
    "collapsed": true
   },
   "outputs": [],
   "source": [
    "#model = Sequential()\n",
    "#model.add(Conv2D(32, (3, 3), padding='valid', input_shape=(1, 28, 28), activation='relu'))\n",
    "#model.add(MaxPooling2D(pool_size=(2, 2)))\n",
    "#model.add(Flatten())\n",
    "#model.add(Dense(128, activation='relu'))\n",
    "#model.add(Dense(num_classes, activation='softmax')) \n",
    "#model.compile(loss='categorical_crossentropy', optimizer='adam', metrics=['accuracy'])"
   ]
  },
  {
   "cell_type": "markdown",
   "metadata": {},
   "source": [
    "### Let's make an even bigger model!\n",
    "\n",
    "Complete with dropout (ignoring a random amount of neurons) to avoid overfitting, and with additional layers"
   ]
  },
  {
   "cell_type": "code",
   "execution_count": 18,
   "metadata": {
    "collapsed": true
   },
   "outputs": [],
   "source": [
    "def larger_model():\n",
    "    model = Sequential()\n",
    "    model.add(Conv2D(30, (5, 5), input_shape=(1, 28, 28), activation='relu'))\n",
    "    model.add(MaxPooling2D(pool_size=(2, 2)))\n",
    "    model.add(Conv2D(15, (3, 3), activation='relu'))\n",
    "    model.add(MaxPooling2D(pool_size=(2, 2)))\n",
    "    model.add(Dropout(0.2))\n",
    "    model.add(Flatten())\n",
    "    model.add(Dense(128, activation='relu'))\n",
    "    model.add(Dense(50, activation='relu'))\n",
    "    model.add(Dense(num_classes, activation='softmax'))\n",
    "    model.compile(loss='categorical_crossentropy', optimizer='adam', metrics=['accuracy'])\n",
    "    return model"
   ]
  },
  {
   "cell_type": "code",
   "execution_count": 19,
   "metadata": {},
   "outputs": [
    {
     "name": "stdout",
     "output_type": "stream",
     "text": [
      "Train on 60000 samples, validate on 10000 samples\n",
      "Epoch 1/10\n",
      "60000/60000 [==============================] - 78s 1ms/step - loss: 0.3766 - acc: 0.8821 - val_loss: 0.0779 - val_acc: 0.9753\n",
      "Epoch 2/10\n",
      "60000/60000 [==============================] - 78s 1ms/step - loss: 0.0917 - acc: 0.9719 - val_loss: 0.0458 - val_acc: 0.9862\n",
      "Epoch 3/10\n",
      "60000/60000 [==============================] - 77s 1ms/step - loss: 0.0677 - acc: 0.9788 - val_loss: 0.0390 - val_acc: 0.9869\n",
      "Epoch 4/10\n",
      "60000/60000 [==============================] - 77s 1ms/step - loss: 0.0544 - acc: 0.9829 - val_loss: 0.0302 - val_acc: 0.9897\n",
      "Epoch 5/10\n",
      "60000/60000 [==============================] - 77s 1ms/step - loss: 0.0451 - acc: 0.9859 - val_loss: 0.0283 - val_acc: 0.9901\n",
      "Epoch 6/10\n",
      "60000/60000 [==============================] - 77s 1ms/step - loss: 0.0397 - acc: 0.9873 - val_loss: 0.0252 - val_acc: 0.9916\n",
      "Epoch 7/10\n",
      "60000/60000 [==============================] - 76s 1ms/step - loss: 0.0365 - acc: 0.9886 - val_loss: 0.0332 - val_acc: 0.9898\n",
      "Epoch 8/10\n",
      "60000/60000 [==============================] - 76s 1ms/step - loss: 0.0335 - acc: 0.9893 - val_loss: 0.0267 - val_acc: 0.9909\n",
      "Epoch 9/10\n",
      "60000/60000 [==============================] - 77s 1ms/step - loss: 0.0291 - acc: 0.9904 - val_loss: 0.0302 - val_acc: 0.9909\n",
      "Epoch 10/10\n",
      "60000/60000 [==============================] - 76s 1ms/step - loss: 0.0275 - acc: 0.9909 - val_loss: 0.0274 - val_acc: 0.9908\n",
      "Large CNN Error: 0.92%\n"
     ]
    }
   ],
   "source": [
    "model = larger_model()\n",
    "history = model.fit(X_train, y_train, validation_data=(X_test, y_test), epochs=10, batch_size=200)\n",
    "scores = model.evaluate(X_test, y_test, verbose=0)\n",
    "print(\"Large CNN Error: %.2f%%\" % (100-scores[1]*100))"
   ]
  },
  {
   "cell_type": "code",
   "execution_count": 20,
   "metadata": {},
   "outputs": [
    {
     "data": {
      "image/png": "[encoded data removed]",
      "text/plain": [
       "<matplotlib.figure.Figure at 0x11cec06a0>"
      ]
     },
     "metadata": {},
     "output_type": "display_data"
    }
   ],
   "source": [
    "\n",
    "plt.plot(history.history['loss'], label='Loss')\n",
    "plt.plot(history.history['acc'], label='Accuracy')\n",
    "plt.xlabel('Epoch')\n",
    "plt.legend()\n",
    "\n",
    "plt.show()"
   ]
  },
  {
   "cell_type": "markdown",
   "metadata": {},
   "source": [
    "### Using Image Preprocessing in Keras\n",
    "\n",
    "This will rotate images to generate more data in more formats. \n",
    "\n",
    "For more info see: \n",
    "https://keras.io/preprocessing/image/"
   ]
  },
  {
   "cell_type": "code",
   "execution_count": 24,
   "metadata": {},
   "outputs": [
    {
     "data": {
      "image/png": "[encoded data removed]",
      "text/plain": [
       "<matplotlib.figure.Figure at 0x11d553198>"
      ]
     },
     "metadata": {},
     "output_type": "display_data"
    }
   ],
   "source": [
    "from keras.preprocessing.image import ImageDataGenerator\n",
    "\n",
    "\n",
    "(X_train, y_train), (X_test, y_test) = mnist.load_data()\n",
    "# reshape to be [samples][pixels][width][height]\n",
    "X_train = X_train.reshape(X_train.shape[0], 1, 28, 28)\n",
    "X_test = X_test.reshape(X_test.shape[0], 1, 28, 28)\n",
    "# convert from int to float\n",
    "X_train = X_train.astype('float32')\n",
    "X_test = X_test.astype('float32')\n",
    "\n",
    "datagen = ImageDataGenerator(rotation_range=90)\n",
    "datagen = ImageDataGenerator(rotation_range=90, featurewise_center=True, featurewise_std_normalization=True, zca_whitening=True)\n",
    "\n",
    "\n",
    "datagen.fit(X_train)\n",
    "# configure batch size and retrieve one batch of images\n",
    "for X_batch, y_batch in datagen.flow(X_train, y_train, batch_size=9):\n",
    "    for i in range(0, 9):\n",
    "        plt.subplot(330 + 1 + i)\n",
    "        plt.imshow(X_batch[i].reshape(28, 28), cmap='gray')\n",
    "    plt.show()\n",
    "    break"
   ]
  },
  {
   "cell_type": "code",
   "execution_count": 36,
   "metadata": {},
   "outputs": [],
   "source": [
    "from sklearn.model_selection import train_test_split\n",
    "# As far as I can tell the validation_data keyword doesn't exist for fit_generator\n",
    "x_train_small, x_val, y_train_small, y_val = train_test_split(X_train, y_train, test_size = 0.1)"
   ]
  },
  {
   "cell_type": "code",
   "execution_count": 39,
   "metadata": {},
   "outputs": [
    {
     "name": "stdout",
     "output_type": "stream",
     "text": [
      "Epoch 1/10\n",
      "1688/1688 [==============================] - 98s 58ms/step - loss: 0.4820 - acc: 0.8442 - val_loss: 0.1565 - val_acc: 0.9513\n",
      "Epoch 2/10\n",
      "1688/1688 [==============================] - 91s 54ms/step - loss: 0.2062 - acc: 0.9363 - val_loss: 0.1229 - val_acc: 0.9638\n",
      "Epoch 3/10\n",
      "1688/1688 [==============================] - 80s 47ms/step - loss: 0.1640 - acc: 0.9486 - val_loss: 0.0906 - val_acc: 0.9735\n",
      "Epoch 4/10\n",
      "1688/1688 [==============================] - 75s 44ms/step - loss: 0.1453 - acc: 0.9551 - val_loss: 0.0902 - val_acc: 0.9722\n",
      "Epoch 5/10\n",
      "1688/1688 [==============================] - 75s 44ms/step - loss: 0.1299 - acc: 0.9596 - val_loss: 0.0853 - val_acc: 0.9743\n",
      "Epoch 6/10\n",
      "1688/1688 [==============================] - 74s 44ms/step - loss: 0.1257 - acc: 0.9596 - val_loss: 0.0887 - val_acc: 0.9730\n",
      "Epoch 7/10\n",
      "1688/1688 [==============================] - 75s 44ms/step - loss: 0.1157 - acc: 0.9647 - val_loss: 0.0839 - val_acc: 0.9748\n",
      "Epoch 8/10\n",
      "1688/1688 [==============================] - 75s 44ms/step - loss: 0.1115 - acc: 0.9652 - val_loss: 0.0836 - val_acc: 0.9745\n",
      "Epoch 9/10\n",
      "1688/1688 [==============================] - 74s 44ms/step - loss: 0.1086 - acc: 0.9667 - val_loss: 0.0661 - val_acc: 0.9808\n",
      "Epoch 10/10\n",
      "1688/1688 [==============================] - 75s 45ms/step - loss: 0.1028 - acc: 0.9685 - val_loss: 0.0633 - val_acc: 0.9825\n",
      "Large CNN Error: 1.65%\n"
     ]
    }
   ],
   "source": [
    "model = larger_model()\n",
    "history = model.fit_generator(datagen.flow(x_train_small, y_train_small, batch_size=32), \n",
    "                              validation_data= (x_val, y_val),  epochs=10)\n",
    "scores = model.evaluate(X_test, y_test, verbose=0)\n",
    "print(\"Large CNN Error: %.2f%%\" % (100-scores[1]*100))"
   ]
  },
  {
   "cell_type": "code",
   "execution_count": null,
   "metadata": {
    "collapsed": true
   },
   "outputs": [],
   "source": []
  }
 ],
 "metadata": {
  "kernelspec": {
   "display_name": "Python 3",
   "language": "python",
   "name": "python3"
  },
  "language_info": {
   "codemirror_mode": {
    "name": "ipython",
    "version": 3
   },
   "file_extension": ".py",
   "mimetype": "text/x-python",
   "name": "python",
   "nbconvert_exporter": "python",
   "pygments_lexer": "ipython3",
   "version": "3.6.8"
  }
 },
 "nbformat": 4,
 "nbformat_minor": 2
}
